{
 "cells": [
  {
   "cell_type": "code",
   "execution_count": 104,
   "metadata": {
    "collapsed": true
   },
   "outputs": [],
   "source": [
    "# Import the required module\n",
    "import csv\n",
    "import datetime"
   ]
  },
  {
   "cell_type": "code",
   "execution_count": 105,
   "metadata": {
    "collapsed": true
   },
   "outputs": [],
   "source": [
    "# Create the file object\n",
    "f = open('guns.csv', 'r')\n",
    "# Read the csv file into a list of lists\n",
    "csvdata = csv.reader(f)\n",
    "guns_data = list(csvdata)"
   ]
  },
  {
   "cell_type": "code",
   "execution_count": 106,
   "metadata": {
    "collapsed": false
   },
   "outputs": [
    {
     "name": "stdout",
     "output_type": "stream",
     "text": [
      "[['1', '2012', '01', 'Suicide', '0', 'M', '34', 'Asian/Pacific Islander', '100', 'Home', '4'], ['2', '2012', '01', 'Suicide', '0', 'F', '21', 'White', '100', 'Street', '3'], ['3', '2012', '01', 'Suicide', '0', 'M', '60', 'White', '100', 'Other specified', '4'], ['4', '2012', '02', 'Suicide', '0', 'M', '64', 'White', '100', 'Home', '4']]\n"
     ]
    }
   ],
   "source": [
    "print(guns_data[1:5])"
   ]
  },
  {
   "cell_type": "code",
   "execution_count": 107,
   "metadata": {
    "collapsed": true
   },
   "outputs": [],
   "source": [
    "# Assign headers row to headers\n",
    "headers = guns_data[0]\n",
    "# Remove the header data from csv dataset\n",
    "guns_data = guns_data[1:]"
   ]
  },
  {
   "cell_type": "code",
   "execution_count": 108,
   "metadata": {
    "collapsed": false
   },
   "outputs": [
    {
     "name": "stdout",
     "output_type": "stream",
     "text": [
      "[['1', '2012', '01', 'Suicide', '0', 'M', '34', 'Asian/Pacific Islander', '100', 'Home', '4'], ['2', '2012', '01', 'Suicide', '0', 'F', '21', 'White', '100', 'Street', '3'], ['3', '2012', '01', 'Suicide', '0', 'M', '60', 'White', '100', 'Other specified', '4'], ['4', '2012', '02', 'Suicide', '0', 'M', '64', 'White', '100', 'Home', '4']]\n"
     ]
    }
   ],
   "source": [
    "print(guns_data[0:4])"
   ]
  },
  {
   "cell_type": "code",
   "execution_count": 109,
   "metadata": {
    "collapsed": false
   },
   "outputs": [
    {
     "name": "stdout",
     "output_type": "stream",
     "text": [
      "{'2013': 33636, '2012': 33563, '2014': 33599}\n"
     ]
    }
   ],
   "source": [
    "# Create a dictionary to store the year to deaths data\n",
    "year_counts = {}\n",
    "# Find the number of deaths in each year\n",
    "for row in guns_data:\n",
    "    if row[1] in year_counts:\n",
    "        year_counts[row[1]] += 1\n",
    "    else:\n",
    "        year_counts[row[1]] = 1\n",
    "\n",
    "        # Display the year_counts dictionary \n",
    "print(year_counts)"
   ]
  },
  {
   "cell_type": "code",
   "execution_count": 110,
   "metadata": {
    "collapsed": false
   },
   "outputs": [
    {
     "name": "stdout",
     "output_type": "stream",
     "text": [
      "[datetime.datetime(2012, 1, 1, 0, 0), datetime.datetime(2012, 1, 1, 0, 0), datetime.datetime(2012, 1, 1, 0, 0), datetime.datetime(2012, 2, 1, 0, 0)]\n"
     ]
    }
   ],
   "source": [
    "# Create a list of Datetime objects of Year, Month and Day=1 from the guns data\n",
    "dates = [datetime.datetime(int(row[1]), int(row[2]), day=1) for row in guns_data]\n",
    "print (dates[:4])"
   ]
  },
  {
   "cell_type": "code",
   "execution_count": 111,
   "metadata": {
    "collapsed": false
   },
   "outputs": [
    {
     "name": "stdout",
     "output_type": "stream",
     "text": [
      "[(datetime.datetime(2012, 2, 1, 0, 0), 2357), (datetime.datetime(2014, 2, 1, 0, 0), 2361), (datetime.datetime(2013, 2, 1, 0, 0), 2375), (datetime.datetime(2014, 1, 1, 0, 0), 2651), (datetime.datetime(2014, 3, 1, 0, 0), 2684), (datetime.datetime(2012, 11, 1, 0, 0), 2729), (datetime.datetime(2012, 10, 1, 0, 0), 2733), (datetime.datetime(2013, 9, 1, 0, 0), 2742), (datetime.datetime(2012, 3, 1, 0, 0), 2743), (datetime.datetime(2014, 11, 1, 0, 0), 2756), (datetime.datetime(2012, 1, 1, 0, 0), 2758), (datetime.datetime(2013, 11, 1, 0, 0), 2758), (datetime.datetime(2013, 12, 1, 0, 0), 2765), (datetime.datetime(2012, 12, 1, 0, 0), 2791), (datetime.datetime(2012, 4, 1, 0, 0), 2795), (datetime.datetime(2013, 4, 1, 0, 0), 2798), (datetime.datetime(2013, 5, 1, 0, 0), 2806), (datetime.datetime(2013, 10, 1, 0, 0), 2808), (datetime.datetime(2012, 6, 1, 0, 0), 2826), (datetime.datetime(2012, 9, 1, 0, 0), 2852), (datetime.datetime(2014, 12, 1, 0, 0), 2857), (datetime.datetime(2013, 8, 1, 0, 0), 2859), (datetime.datetime(2014, 4, 1, 0, 0), 2862), (datetime.datetime(2013, 3, 1, 0, 0), 2862), (datetime.datetime(2013, 1, 1, 0, 0), 2864), (datetime.datetime(2014, 5, 1, 0, 0), 2864), (datetime.datetime(2014, 10, 1, 0, 0), 2865), (datetime.datetime(2014, 7, 1, 0, 0), 2884), (datetime.datetime(2014, 9, 1, 0, 0), 2914), (datetime.datetime(2013, 6, 1, 0, 0), 2920), (datetime.datetime(2014, 6, 1, 0, 0), 2931), (datetime.datetime(2012, 8, 1, 0, 0), 2954), (datetime.datetime(2014, 8, 1, 0, 0), 2970), (datetime.datetime(2012, 5, 1, 0, 0), 2999), (datetime.datetime(2012, 7, 1, 0, 0), 3026), (datetime.datetime(2013, 7, 1, 0, 0), 3079)]\n"
     ]
    }
   ],
   "source": [
    "# Create a dictionary to store the Year & Month to death data\n",
    "date_counts = {}\n",
    "# Calculate the deaths associated to Datetime object of the month, year, day = 1\n",
    "for row in dates:\n",
    "    if row in date_counts:\n",
    "        date_counts[row] += 1\n",
    "    else:\n",
    "        date_counts[row] = 1\n",
    "        \n",
    "# Display the Dictionary\n",
    "print(sorted(date_counts.items(), key= lambda x:x[1]))"
   ]
  },
  {
   "cell_type": "code",
   "execution_count": 112,
   "metadata": {
    "collapsed": false
   },
   "outputs": [
    {
     "name": "stdout",
     "output_type": "stream",
     "text": [
      "[('F', 14449), ('M', 86349)]\n"
     ]
    }
   ],
   "source": [
    "# Create a dictionary to store the count of gender types\n",
    "sex_counts = {}\n",
    "# Calculate the count of gender types associated to Guns Data\n",
    "for row in guns_data:\n",
    "    if row[5] in sex_counts:\n",
    "        sex_counts[row[5]] += 1\n",
    "    else:\n",
    "        sex_counts[row[5]] = 1\n",
    "        \n",
    "# Display the Dictionary\n",
    "print(sorted(sex_counts.items(), key= lambda x:x[1]))"
   ]
  },
  {
   "cell_type": "code",
   "execution_count": 113,
   "metadata": {
    "collapsed": false
   },
   "outputs": [
    {
     "name": "stdout",
     "output_type": "stream",
     "text": [
      "[('Native American/Native Alaskan', 917), ('Asian/Pacific Islander', 1326), ('Hispanic', 9022), ('Black', 23296), ('White', 66237)]\n"
     ]
    }
   ],
   "source": [
    "# Create a dictionary to store the count of types of Race\n",
    "race_counts = {}\n",
    "# Calculate the count of Race types associated to Guns Data\n",
    "for row in guns_data:\n",
    "    # Count only victims due to Homicide\n",
    "    #if row[3] == 'Homicide':\n",
    "    if row[7] in race_counts:\n",
    "        race_counts[row[7]] += 1\n",
    "    else:\n",
    "        race_counts[row[7]] = 1\n",
    "        \n",
    "# Display the Dictionary\n",
    "print(sorted(race_counts.items(), key= lambda x:x[1]))"
   ]
  },
  {
   "cell_type": "markdown",
   "metadata": {},
   "source": [
    "# Need to analyze the Place of gun fire and explore if it is more at school or college, or at Home?#\n",
    "\n",
    "# The highest number of victims are white colored people, which proves that these gun fires were definitely not motivated by color#"
   ]
  },
  {
   "cell_type": "code",
   "execution_count": 114,
   "metadata": {
    "collapsed": false
   },
   "outputs": [
    {
     "name": "stdout",
     "output_type": "stream",
     "text": [
      "[['Id', 'Year', 'Id', 'Sex', 'Id', 'Hispanic Origin', 'Id', 'Id2', 'Geography', 'Total', 'Race Alone - White', 'Race Alone - Hispanic', 'Race Alone - Black or African American', 'Race Alone - American Indian and Alaska Native', 'Race Alone - Asian', 'Race Alone - Native Hawaiian and Other Pacific Islander', 'Two or More Races'], ['cen42010', 'April 1, 2010 Census', 'totsex', 'Both Sexes', 'tothisp', 'Total', '0100000US', '', 'United States', '308745538', '197318956', '44618105', '40250635', '3739506', '15159516', '674625', '6984195']]\n"
     ]
    }
   ],
   "source": [
    "# Create a file object to read Census.csv data\n",
    "f = open('census.csv', 'r')\n",
    "# Read the census.csv data and convert to list of list\n",
    "census = list(csv.reader(f))\n",
    "print (census)"
   ]
  },
  {
   "cell_type": "code",
   "execution_count": 115,
   "metadata": {
    "collapsed": false
   },
   "outputs": [
    {
     "name": "stdout",
     "output_type": "stream",
     "text": [
      "{'Black': 57.8773477735196, 'Asian/Pacific Islander': 8.374309664161762, 'Native American/Native Alaskan': 24.521955573811088, 'Hispanic': 20.220491210910907, 'White': 33.56849303419181}\n"
     ]
    }
   ],
   "source": [
    "# Create a dictionary mapping the Race from the Gun data to Census data\n",
    "'''\n",
    "mapping = {'Native American/Native Alaskan': \\\n",
    "           ['Race Alone - American Indian and Alaska Native'], \\\n",
    "          'Asian/Pacific Islander': \\\n",
    "          ['Race Alone - Asian', 'Race Alone - Native Hawaiian and Other Pacific Islander'], \\\n",
    "          'Hispanic': ['Race Alone - Hispanic'], \\\n",
    "          'Black': ['Race Alone - Black or African American'], \\\n",
    "          'White': ['Race Alone - White']}\n",
    "'''\n",
    "\n",
    "mapping = {'Native American/Native Alaskan': 3739506, \\\n",
    "          'Asian/Pacific Islander': 15834141, \\\n",
    "          'Hispanic': 44618105, \\\n",
    "          'Black': 40250635, \\\n",
    "          'White': 197318956}\n",
    "\n",
    "# Create a empty dictionary to store the deaths for every 100k people in the race\n",
    "race_per_hundredk = {}\n",
    "\n",
    "# Calculate per 100k population \n",
    "for k in mapping:\n",
    "    race_per_hundredk[k] = (race_counts[k]/mapping[k]) * 100000\n",
    "    \n",
    "print(race_per_hundredk)"
   ]
  },
  {
   "cell_type": "markdown",
   "metadata": {},
   "source": [
    "# For Homicide intent of gun victims, the Black colored people have the highest victims rate, followed by Hispanic, who are way behind #"
   ]
  },
  {
   "cell_type": "code",
   "execution_count": 119,
   "metadata": {
    "collapsed": false
   },
   "outputs": [
    {
     "name": "stdout",
     "output_type": "stream",
     "text": [
      "[('01', 2829), ('02', 2178), ('03', 2780), ('04', 2845), ('05', 2976), ('06', 3130), ('07', 3269), ('08', 3125), ('09', 2966), ('10', 2968), ('11', 2919), ('12', 3191)]\n"
     ]
    }
   ],
   "source": [
    "# Identify the association between Month and Homicide\n",
    "month_data = {}\n",
    "\n",
    "# Find the rows where the intent is Homicide.\n",
    "month_data_homicide = [row for row in guns_data if row[3]=='Homicide']\n",
    "\n",
    "for row in month_data_homicide:\n",
    "    if row[2] in month_data:\n",
    "        month_data[row[2]] += 1\n",
    "    else:\n",
    "        month_data[row[2]] = 1\n",
    "        \n",
    "print(sorted(month_data.items()))\n",
    "    "
   ]
  }
 ],
 "metadata": {
  "kernelspec": {
   "display_name": "Python 3",
   "language": "python",
   "name": "python3"
  },
  "language_info": {
   "codemirror_mode": {
    "name": "ipython",
    "version": 3
   },
   "file_extension": ".py",
   "mimetype": "text/x-python",
   "name": "python",
   "nbconvert_exporter": "python",
   "pygments_lexer": "ipython3",
   "version": "3.4.3"
  }
 },
 "nbformat": 4,
 "nbformat_minor": 0
}
