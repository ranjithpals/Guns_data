{
 "cells": [
  {
   "cell_type": "code",
   "execution_count": null,
   "metadata": {
    "collapsed": true
   },
   "outputs": [],
   "source": [
    "# Import the required module\n",
    "import csv\n",
    "import datetime"
   ]
  },
  {
   "cell_type": "code",
   "execution_count": null,
   "metadata": {
    "collapsed": true
   },
   "outputs": [],
   "source": [
    "# Create the file object\n",
    "f = open('guns.csv', 'r')\n",
    "# Read the csv file into a list of lists\n",
    "csvdata = csv.reader(f)\n",
    "guns_data = list(csvdata)"
   ]
  },
  {
   "cell_type": "code",
   "execution_count": null,
   "metadata": {
    "collapsed": false
   },
   "outputs": [],
   "source": [
    "print(guns_data[1:5])"
   ]
  },
  {
   "cell_type": "code",
   "execution_count": null,
   "metadata": {
    "collapsed": true
   },
   "outputs": [],
   "source": [
    "# Assign headers row to headers\n",
    "headers = guns_data[0]\n",
    "# Remove the header data from csv dataset\n",
    "guns_data = guns_data[1:]"
   ]
  },
  {
   "cell_type": "code",
   "execution_count": null,
   "metadata": {
    "collapsed": false
   },
   "outputs": [],
   "source": [
    "print(guns_data[0:4])"
   ]
  },
  {
   "cell_type": "code",
   "execution_count": null,
   "metadata": {
    "collapsed": false
   },
   "outputs": [],
   "source": [
    "# Create a dictionary to store the year to deaths data\n",
    "year_counts = {}\n",
    "# Find the number of deaths in each year\n",
    "for row in guns_data:\n",
    "    if row[1] in year_counts:\n",
    "        year_counts[row[1]] += 1\n",
    "    else:\n",
    "        year_counts[row[1]] = 1\n",
    "\n",
    "        # Display the year_counts dictionary \n",
    "print(year_counts)"
   ]
  },
  {
   "cell_type": "code",
   "execution_count": null,
   "metadata": {
    "collapsed": false
   },
   "outputs": [],
   "source": [
    "# Create a list of Datetime objects of Year, Month and Day=1 from the guns data\n",
    "dates = [datetime.datetime(int(row[1]), int(row[2]), day=1) for row in guns_data]\n",
    "print (dates[:4])"
   ]
  },
  {
   "cell_type": "code",
   "execution_count": null,
   "metadata": {
    "collapsed": false
   },
   "outputs": [],
   "source": [
    "# Create a dictionary to store the Year & Month to death data\n",
    "date_counts = {}\n",
    "# Calculate the deaths associated to Datetime object of the month, year, day = 1\n",
    "for row in dates:\n",
    "    if row in date_counts:\n",
    "        date_counts[row] += 1\n",
    "    else:\n",
    "        date_counts[row] = 1\n",
    "        \n",
    "# Display the Dictionary\n",
    "print(sorted(date_counts.items(), key= lambda x:x[1]))"
   ]
  },
  {
   "cell_type": "code",
   "execution_count": null,
   "metadata": {
    "collapsed": false
   },
   "outputs": [],
   "source": [
    "# Create a dictionary to store the count of gender types\n",
    "sex_counts = {}\n",
    "# Calculate the count of gender types associated to Guns Data\n",
    "for row in guns_data:\n",
    "    if row[5] in sex_counts:\n",
    "        sex_counts[row[5]] += 1\n",
    "    else:\n",
    "        sex_counts[row[5]] = 1\n",
    "        \n",
    "# Display the Dictionary\n",
    "print(sorted(sex_counts.items(), key= lambda x:x[1]))"
   ]
  },
  {
   "cell_type": "code",
   "execution_count": null,
   "metadata": {
    "collapsed": false
   },
   "outputs": [],
   "source": [
    "# Create a dictionary to store the count of types of Race\n",
    "race_counts = {}\n",
    "# Calculate the count of Race types associated to Guns Data\n",
    "for row in guns_data:\n",
    "    # Count only victims due to Homicide\n",
    "    #if row[3] == 'Homicide':\n",
    "    if row[7] in race_counts:\n",
    "        race_counts[row[7]] += 1\n",
    "    else:\n",
    "        race_counts[row[7]] = 1\n",
    "        \n",
    "# Display the Dictionary\n",
    "print(sorted(race_counts.items(), key= lambda x:x[1]))"
   ]
  },
  {
   "cell_type": "markdown",
   "metadata": {},
   "source": [
    "# Need to analyze the Place of gun fire and explore if it is more at school or college, or at Home?#\n",
    "\n",
    "# The highest number of victims are white colored people, which proves that these gun fires were definitely not motivated by color#"
   ]
  },
  {
   "cell_type": "code",
   "execution_count": null,
   "metadata": {
    "collapsed": false
   },
   "outputs": [],
   "source": [
    "# Create a file object to read Census.csv data\n",
    "f = open('census.csv', 'r')\n",
    "# Read the census.csv data and convert to list of list\n",
    "census = list(csv.reader(f))\n",
    "print (census)"
   ]
  },
  {
   "cell_type": "code",
   "execution_count": null,
   "metadata": {
    "collapsed": false
   },
   "outputs": [],
   "source": [
    "# Create a dictionary mapping the Race from the Gun data to Census data\n",
    "'''\n",
    "mapping = {'Native American/Native Alaskan': \\\n",
    "           ['Race Alone - American Indian and Alaska Native'], \\\n",
    "          'Asian/Pacific Islander': \\\n",
    "          ['Race Alone - Asian', 'Race Alone - Native Hawaiian and Other Pacific Islander'], \\\n",
    "          'Hispanic': ['Race Alone - Hispanic'], \\\n",
    "          'Black': ['Race Alone - Black or African American'], \\\n",
    "          'White': ['Race Alone - White']}\n",
    "'''\n",
    "\n",
    "mapping = {'Native American/Native Alaskan': 3739506, \\\n",
    "          'Asian/Pacific Islander': 15834141, \\\n",
    "          'Hispanic': 44618105, \\\n",
    "          'Black': 40250635, \\\n",
    "          'White': 197318956}\n",
    "\n",
    "# Create a empty dictionary to store the deaths for every 100k people in the race\n",
    "race_per_hundredk = {}\n",
    "\n",
    "# Calculate per 100k population \n",
    "for k in mapping:\n",
    "    race_per_hundredk[k] = (race_counts[k]/mapping[k]) * 100000\n",
    "    \n",
    "print(race_per_hundredk)\n",
    "\n",
    "    "
   ]
  },
  {
   "cell_type": "markdown",
   "metadata": {},
   "source": [
    "# For Homicide intent of gun victims, the Black colored people have the highest victims rate, followed by Hispanic, who are way behind #"
   ]
  },
  {
   "cell_type": "code",
   "execution_count": null,
   "metadata": {
    "collapsed": true
   },
   "outputs": [],
   "source": [
    "# Identify the association between Month and Homicide\n",
    "month_data = {}\n",
    "\n",
    "# Find the rows where the intent is Homicide.\n",
    "month_data_homicide = [row for row in guns_data if row[3]=='Homicide']\n",
    "\n",
    "for row in guns_data:\n",
    "    \n",
    "    if row[2] in month_data_homicide:\n",
    "        month_data[row[2]] += 1\n",
    "    else:\n",
    "        month_data[row[2]] = 1\n",
    "        \n",
    "print(month_data)\n",
    "    "
   ]
  }
 ],
 "metadata": {
  "kernelspec": {
   "display_name": "Python 3",
   "language": "python",
   "name": "python3"
  },
  "language_info": {
   "codemirror_mode": {
    "name": "ipython",
    "version": 3
   },
   "file_extension": ".py",
   "mimetype": "text/x-python",
   "name": "python",
   "nbconvert_exporter": "python",
   "pygments_lexer": "ipython3",
   "version": "3.4.3"
  }
 },
 "nbformat": 4,
 "nbformat_minor": 0
}
